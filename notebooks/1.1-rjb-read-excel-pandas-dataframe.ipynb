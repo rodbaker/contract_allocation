{
 "cells": [
  {
   "cell_type": "markdown",
   "metadata": {},
   "source": [
    "## Import Wheat Solver Excel Template Data into a pandas dataframe"
   ]
  },
  {
   "cell_type": "code",
   "execution_count": 1,
   "metadata": {},
   "outputs": [],
   "source": [
    "import pandas as pd\n",
    "import numpy as np"
   ]
  },
  {
   "cell_type": "code",
   "execution_count": 2,
   "metadata": {},
   "outputs": [],
   "source": [
    "# read in excel solver spreadsheet as pandas dataframe.\n",
    "\n",
    "df = pd.read_excel(r'C:\\Users\\rj71b\\contract_allocation\\data\\interim\\Wheat_Solver_Advanced.xlsx',\n",
    "                  sheet_name = 0,\n",
    "                  skiprows = 2,\n",
    "                  nrows = 4,\n",
    "                  usecols = [x for x in range(2,19)])"
   ]
  },
  {
   "cell_type": "code",
   "execution_count": 3,
   "metadata": {},
   "outputs": [],
   "source": [
    "# drop columns with NAN. Return df with only contract details\n",
    "df.dropna(axis = 1,\n",
    "                   inplace = True)"
   ]
  },
  {
   "cell_type": "code",
   "execution_count": 4,
   "metadata": {},
   "outputs": [],
   "source": [
    "# Reflect the DataFrame over its main diagonal by writing \n",
    "# rows as columns and vice-versa\n",
    "\n",
    "df = df.T"
   ]
  },
  {
   "cell_type": "code",
   "execution_count": 5,
   "metadata": {},
   "outputs": [],
   "source": [
    "# Reset the index of the DataFrame, and use the default one instead\n",
    "\n",
    "df.reset_index(drop = True, inplace = True)"
   ]
  },
  {
   "cell_type": "code",
   "execution_count": 6,
   "metadata": {},
   "outputs": [],
   "source": [
    "# set column names to those in the first row\n",
    "    \n",
    "df.columns = df.iloc[0]"
   ]
  },
  {
   "cell_type": "code",
   "execution_count": 7,
   "metadata": {},
   "outputs": [],
   "source": [
    "df = df.reindex(df.index.drop(0))"
   ]
  },
  {
   "cell_type": "code",
   "execution_count": 8,
   "metadata": {},
   "outputs": [
    {
     "data": {
      "text/html": [
       "<div>\n",
       "<style scoped>\n",
       "    .dataframe tbody tr th:only-of-type {\n",
       "        vertical-align: middle;\n",
       "    }\n",
       "\n",
       "    .dataframe tbody tr th {\n",
       "        vertical-align: top;\n",
       "    }\n",
       "\n",
       "    .dataframe thead th {\n",
       "        text-align: right;\n",
       "    }\n",
       "</style>\n",
       "<table border=\"1\" class=\"dataframe\">\n",
       "  <thead>\n",
       "    <tr style=\"text-align: right;\">\n",
       "      <th></th>\n",
       "      <th>Merchant</th>\n",
       "      <th>Contract #</th>\n",
       "      <th>Base</th>\n",
       "      <th>Tonnes</th>\n",
       "    </tr>\n",
       "  </thead>\n",
       "  <tbody>\n",
       "    <tr>\n",
       "      <th>1</th>\n",
       "      <td>CBH</td>\n",
       "      <td>WC1</td>\n",
       "      <td>APW1</td>\n",
       "      <td>250</td>\n",
       "    </tr>\n",
       "    <tr>\n",
       "      <th>2</th>\n",
       "      <td>Bunge</td>\n",
       "      <td>WC2</td>\n",
       "      <td>APW1</td>\n",
       "      <td>250</td>\n",
       "    </tr>\n",
       "    <tr>\n",
       "      <th>3</th>\n",
       "      <td>Glencore</td>\n",
       "      <td>WC3</td>\n",
       "      <td>APW1</td>\n",
       "      <td>500</td>\n",
       "    </tr>\n",
       "    <tr>\n",
       "      <th>4</th>\n",
       "      <td>CBH</td>\n",
       "      <td>WC4</td>\n",
       "      <td>APW1</td>\n",
       "      <td>500</td>\n",
       "    </tr>\n",
       "    <tr>\n",
       "      <th>5</th>\n",
       "      <td>AWB</td>\n",
       "      <td>WC5</td>\n",
       "      <td>APW1</td>\n",
       "      <td>500</td>\n",
       "    </tr>\n",
       "    <tr>\n",
       "      <th>6</th>\n",
       "      <td>CBH</td>\n",
       "      <td>WC6</td>\n",
       "      <td>APW1</td>\n",
       "      <td>500</td>\n",
       "    </tr>\n",
       "  </tbody>\n",
       "</table>\n",
       "</div>"
      ],
      "text/plain": [
       "0  Merchant Contract #  Base Tonnes\n",
       "1       CBH        WC1  APW1    250\n",
       "2     Bunge        WC2  APW1    250\n",
       "3  Glencore        WC3  APW1    500\n",
       "4       CBH        WC4  APW1    500\n",
       "5       AWB        WC5  APW1    500\n",
       "6       CBH        WC6  APW1    500"
      ]
     },
     "execution_count": 8,
     "metadata": {},
     "output_type": "execute_result"
    }
   ],
   "source": [
    "# initial dataframe with contract details\n",
    "df"
   ]
  },
  {
   "cell_type": "markdown",
   "metadata": {},
   "source": [
    "### For now am just creating tonnes to allocate to cash df. \n",
    "### Will work out how to incorporate from xcel import later"
   ]
  },
  {
   "cell_type": "code",
   "execution_count": 9,
   "metadata": {},
   "outputs": [],
   "source": [
    "# data dict\n",
    "data = {'Merchant':[np.NAN], 'Base':['APW1'], 'Tonnes':5000}\n",
    "# convert to pandas dataframe\n",
    "df_cash_contract =  pd.DataFrame(data, index =['cash']) "
   ]
  },
  {
   "cell_type": "code",
   "execution_count": 10,
   "metadata": {},
   "outputs": [],
   "source": [
    "# Make a deep copy of df and assign as df_contract. Am doing this so as to set index on Contract #. Will allow for indexing later on\n",
    "df_contract = df.copy()"
   ]
  },
  {
   "cell_type": "code",
   "execution_count": 11,
   "metadata": {},
   "outputs": [],
   "source": [
    "# Have set contract number column as index\n",
    "df_contract.set_index('Contract #', inplace = True)"
   ]
  },
  {
   "cell_type": "code",
   "execution_count": 12,
   "metadata": {},
   "outputs": [],
   "source": [
    "df_contract.index.name = 'contract'"
   ]
  },
  {
   "cell_type": "code",
   "execution_count": 13,
   "metadata": {},
   "outputs": [],
   "source": [
    "df_contract = df_contract.append(df_cash_contract)"
   ]
  },
  {
   "cell_type": "code",
   "execution_count": 14,
   "metadata": {},
   "outputs": [
    {
     "data": {
      "text/html": [
       "<div>\n",
       "<style scoped>\n",
       "    .dataframe tbody tr th:only-of-type {\n",
       "        vertical-align: middle;\n",
       "    }\n",
       "\n",
       "    .dataframe tbody tr th {\n",
       "        vertical-align: top;\n",
       "    }\n",
       "\n",
       "    .dataframe thead th {\n",
       "        text-align: right;\n",
       "    }\n",
       "</style>\n",
       "<table border=\"1\" class=\"dataframe\">\n",
       "  <thead>\n",
       "    <tr style=\"text-align: right;\">\n",
       "      <th></th>\n",
       "      <th>Merchant</th>\n",
       "      <th>Base</th>\n",
       "      <th>Tonnes</th>\n",
       "    </tr>\n",
       "  </thead>\n",
       "  <tbody>\n",
       "    <tr>\n",
       "      <th>WC1</th>\n",
       "      <td>CBH</td>\n",
       "      <td>APW1</td>\n",
       "      <td>250</td>\n",
       "    </tr>\n",
       "    <tr>\n",
       "      <th>WC2</th>\n",
       "      <td>Bunge</td>\n",
       "      <td>APW1</td>\n",
       "      <td>250</td>\n",
       "    </tr>\n",
       "    <tr>\n",
       "      <th>WC3</th>\n",
       "      <td>Glencore</td>\n",
       "      <td>APW1</td>\n",
       "      <td>500</td>\n",
       "    </tr>\n",
       "    <tr>\n",
       "      <th>WC4</th>\n",
       "      <td>CBH</td>\n",
       "      <td>APW1</td>\n",
       "      <td>500</td>\n",
       "    </tr>\n",
       "    <tr>\n",
       "      <th>WC5</th>\n",
       "      <td>AWB</td>\n",
       "      <td>APW1</td>\n",
       "      <td>500</td>\n",
       "    </tr>\n",
       "    <tr>\n",
       "      <th>WC6</th>\n",
       "      <td>CBH</td>\n",
       "      <td>APW1</td>\n",
       "      <td>500</td>\n",
       "    </tr>\n",
       "    <tr>\n",
       "      <th>cash</th>\n",
       "      <td>NaN</td>\n",
       "      <td>APW1</td>\n",
       "      <td>5000</td>\n",
       "    </tr>\n",
       "  </tbody>\n",
       "</table>\n",
       "</div>"
      ],
      "text/plain": [
       "0     Merchant  Base Tonnes\n",
       "WC1        CBH  APW1    250\n",
       "WC2      Bunge  APW1    250\n",
       "WC3   Glencore  APW1    500\n",
       "WC4        CBH  APW1    500\n",
       "WC5        AWB  APW1    500\n",
       "WC6        CBH  APW1    500\n",
       "cash       NaN  APW1   5000"
      ]
     },
     "execution_count": 14,
     "metadata": {},
     "output_type": "execute_result"
    }
   ],
   "source": [
    "# now have contract and cash tonnes for allocation\n",
    "df_contract"
   ]
  },
  {
   "cell_type": "markdown",
   "metadata": {},
   "source": [
    "## Will now get dataframe with wheat grades and ammount grown"
   ]
  },
  {
   "cell_type": "code",
   "execution_count": 15,
   "metadata": {},
   "outputs": [],
   "source": [
    "df_grown = pd.read_excel(r'C:\\Users\\rj71b\\contract_allocation\\data\\interim\\Wheat_Solver_Advanced.xlsx',\n",
    "                  sheet_name = 0,\n",
    "                  skiprows = 22,\n",
    "                  usecols = [1,2],\n",
    "                  nrows = 9,\n",
    "                  header = None,\n",
    "                  names = ['grade', 'grown'],\n",
    "                  index_col = 0)"
   ]
  },
  {
   "cell_type": "code",
   "execution_count": 16,
   "metadata": {},
   "outputs": [
    {
     "data": {
      "text/html": [
       "<div>\n",
       "<style scoped>\n",
       "    .dataframe tbody tr th:only-of-type {\n",
       "        vertical-align: middle;\n",
       "    }\n",
       "\n",
       "    .dataframe tbody tr th {\n",
       "        vertical-align: top;\n",
       "    }\n",
       "\n",
       "    .dataframe thead th {\n",
       "        text-align: right;\n",
       "    }\n",
       "</style>\n",
       "<table border=\"1\" class=\"dataframe\">\n",
       "  <thead>\n",
       "    <tr style=\"text-align: right;\">\n",
       "      <th></th>\n",
       "      <th>grown</th>\n",
       "    </tr>\n",
       "    <tr>\n",
       "      <th>grade</th>\n",
       "      <th></th>\n",
       "    </tr>\n",
       "  </thead>\n",
       "  <tbody>\n",
       "    <tr>\n",
       "      <th>H1</th>\n",
       "      <td>750</td>\n",
       "    </tr>\n",
       "    <tr>\n",
       "      <th>H2</th>\n",
       "      <td>150</td>\n",
       "    </tr>\n",
       "    <tr>\n",
       "      <th>APW1</th>\n",
       "      <td>2500</td>\n",
       "    </tr>\n",
       "    <tr>\n",
       "      <th>APW2</th>\n",
       "      <td>550</td>\n",
       "    </tr>\n",
       "    <tr>\n",
       "      <th>AUH2</th>\n",
       "      <td>250</td>\n",
       "    </tr>\n",
       "    <tr>\n",
       "      <th>ASW1</th>\n",
       "      <td>2000</td>\n",
       "    </tr>\n",
       "    <tr>\n",
       "      <th>AGP1</th>\n",
       "      <td>500</td>\n",
       "    </tr>\n",
       "    <tr>\n",
       "      <th>FED1</th>\n",
       "      <td>800</td>\n",
       "    </tr>\n",
       "    <tr>\n",
       "      <th>APWN</th>\n",
       "      <td>0</td>\n",
       "    </tr>\n",
       "  </tbody>\n",
       "</table>\n",
       "</div>"
      ],
      "text/plain": [
       "       grown\n",
       "grade       \n",
       "H1       750\n",
       "H2       150\n",
       "APW1    2500\n",
       "APW2     550\n",
       "AUH2     250\n",
       "ASW1    2000\n",
       "AGP1     500\n",
       "FED1     800\n",
       "APWN       0"
      ]
     },
     "execution_count": 16,
     "metadata": {},
     "output_type": "execute_result"
    }
   ],
   "source": [
    "df_grown"
   ]
  },
  {
   "cell_type": "markdown",
   "metadata": {},
   "source": [
    "## Create df with contract values"
   ]
  },
  {
   "cell_type": "code",
   "execution_count": 17,
   "metadata": {},
   "outputs": [],
   "source": [
    "df_values = pd.read_excel(r'C:\\Users\\rj71b\\contract_allocation\\data\\interim\\Wheat_Solver_Advanced.xlsx',\n",
    "                  sheet_name = 0,\n",
    "                  skiprows = 22,\n",
    "                  usecols = [x for x in range(3,3+len(df['Contract #']))],\n",
    "                  nrows = 9,\n",
    "                  header = None,\n",
    "                  names = df['Contract #'].to_list())  # column names are contract numbers"
   ]
  },
  {
   "cell_type": "code",
   "execution_count": 18,
   "metadata": {},
   "outputs": [],
   "source": [
    "df_values = df_values.set_index(df_grown.index)"
   ]
  },
  {
   "cell_type": "code",
   "execution_count": 19,
   "metadata": {},
   "outputs": [
    {
     "data": {
      "text/html": [
       "<div>\n",
       "<style scoped>\n",
       "    .dataframe tbody tr th:only-of-type {\n",
       "        vertical-align: middle;\n",
       "    }\n",
       "\n",
       "    .dataframe tbody tr th {\n",
       "        vertical-align: top;\n",
       "    }\n",
       "\n",
       "    .dataframe thead th {\n",
       "        text-align: right;\n",
       "    }\n",
       "</style>\n",
       "<table border=\"1\" class=\"dataframe\">\n",
       "  <thead>\n",
       "    <tr style=\"text-align: right;\">\n",
       "      <th></th>\n",
       "      <th>WC1</th>\n",
       "      <th>WC2</th>\n",
       "      <th>WC3</th>\n",
       "      <th>WC4</th>\n",
       "      <th>WC5</th>\n",
       "      <th>WC6</th>\n",
       "    </tr>\n",
       "    <tr>\n",
       "      <th>grade</th>\n",
       "      <th></th>\n",
       "      <th></th>\n",
       "      <th></th>\n",
       "      <th></th>\n",
       "      <th></th>\n",
       "      <th></th>\n",
       "    </tr>\n",
       "  </thead>\n",
       "  <tbody>\n",
       "    <tr>\n",
       "      <th>H1</th>\n",
       "      <td>300</td>\n",
       "      <td>307</td>\n",
       "      <td>310</td>\n",
       "      <td>313</td>\n",
       "      <td>311</td>\n",
       "      <td>317</td>\n",
       "    </tr>\n",
       "    <tr>\n",
       "      <th>H2</th>\n",
       "      <td>298</td>\n",
       "      <td>303</td>\n",
       "      <td>305</td>\n",
       "      <td>308</td>\n",
       "      <td>308</td>\n",
       "      <td>312</td>\n",
       "    </tr>\n",
       "    <tr>\n",
       "      <th>APW1</th>\n",
       "      <td>295</td>\n",
       "      <td>297</td>\n",
       "      <td>299</td>\n",
       "      <td>302</td>\n",
       "      <td>305</td>\n",
       "      <td>308</td>\n",
       "    </tr>\n",
       "    <tr>\n",
       "      <th>APW2</th>\n",
       "      <td>280</td>\n",
       "      <td>292</td>\n",
       "      <td>290</td>\n",
       "      <td>297</td>\n",
       "      <td>302</td>\n",
       "      <td>306</td>\n",
       "    </tr>\n",
       "    <tr>\n",
       "      <th>AUH2</th>\n",
       "      <td>290</td>\n",
       "      <td>280</td>\n",
       "      <td>301</td>\n",
       "      <td>305</td>\n",
       "      <td>300</td>\n",
       "      <td>309</td>\n",
       "    </tr>\n",
       "    <tr>\n",
       "      <th>ASW1</th>\n",
       "      <td>265</td>\n",
       "      <td>282</td>\n",
       "      <td>279</td>\n",
       "      <td>284</td>\n",
       "      <td>295</td>\n",
       "      <td>285</td>\n",
       "    </tr>\n",
       "    <tr>\n",
       "      <th>AGP1</th>\n",
       "      <td>260</td>\n",
       "      <td>257</td>\n",
       "      <td>260</td>\n",
       "      <td>265</td>\n",
       "      <td>270</td>\n",
       "      <td>269</td>\n",
       "    </tr>\n",
       "    <tr>\n",
       "      <th>FED1</th>\n",
       "      <td>235</td>\n",
       "      <td>227</td>\n",
       "      <td>230</td>\n",
       "      <td>252</td>\n",
       "      <td>235</td>\n",
       "      <td>236</td>\n",
       "    </tr>\n",
       "    <tr>\n",
       "      <th>APWN</th>\n",
       "      <td>295</td>\n",
       "      <td>298</td>\n",
       "      <td>302</td>\n",
       "      <td>302</td>\n",
       "      <td>307</td>\n",
       "      <td>304</td>\n",
       "    </tr>\n",
       "  </tbody>\n",
       "</table>\n",
       "</div>"
      ],
      "text/plain": [
       "       WC1  WC2  WC3  WC4  WC5  WC6\n",
       "grade                              \n",
       "H1     300  307  310  313  311  317\n",
       "H2     298  303  305  308  308  312\n",
       "APW1   295  297  299  302  305  308\n",
       "APW2   280  292  290  297  302  306\n",
       "AUH2   290  280  301  305  300  309\n",
       "ASW1   265  282  279  284  295  285\n",
       "AGP1   260  257  260  265  270  269\n",
       "FED1   235  227  230  252  235  236\n",
       "APWN   295  298  302  302  307  304"
      ]
     },
     "execution_count": 19,
     "metadata": {},
     "output_type": "execute_result"
    }
   ],
   "source": [
    "df_values"
   ]
  },
  {
   "cell_type": "markdown",
   "metadata": {},
   "source": [
    "## Create df with cash values"
   ]
  },
  {
   "cell_type": "code",
   "execution_count": 20,
   "metadata": {},
   "outputs": [],
   "source": [
    "df_cash = pd.read_excel(r'C:\\Users\\rj71b\\contract_allocation\\data\\interim\\Wheat_Solver_Advanced.xlsx',\n",
    "                  sheet_name = 0,\n",
    "                  skiprows = 22,\n",
    "                  usecols = [1,18],\n",
    "                  nrows = 9,\n",
    "                  header = None,\n",
    "                  names = ['grade', 'cash'],\n",
    "                  index_col = 0)"
   ]
  },
  {
   "cell_type": "code",
   "execution_count": 21,
   "metadata": {},
   "outputs": [
    {
     "data": {
      "text/html": [
       "<div>\n",
       "<style scoped>\n",
       "    .dataframe tbody tr th:only-of-type {\n",
       "        vertical-align: middle;\n",
       "    }\n",
       "\n",
       "    .dataframe tbody tr th {\n",
       "        vertical-align: top;\n",
       "    }\n",
       "\n",
       "    .dataframe thead th {\n",
       "        text-align: right;\n",
       "    }\n",
       "</style>\n",
       "<table border=\"1\" class=\"dataframe\">\n",
       "  <thead>\n",
       "    <tr style=\"text-align: right;\">\n",
       "      <th></th>\n",
       "      <th>cash</th>\n",
       "    </tr>\n",
       "    <tr>\n",
       "      <th>grade</th>\n",
       "      <th></th>\n",
       "    </tr>\n",
       "  </thead>\n",
       "  <tbody>\n",
       "    <tr>\n",
       "      <th>H1</th>\n",
       "      <td>385</td>\n",
       "    </tr>\n",
       "    <tr>\n",
       "      <th>H2</th>\n",
       "      <td>380</td>\n",
       "    </tr>\n",
       "    <tr>\n",
       "      <th>APW1</th>\n",
       "      <td>343</td>\n",
       "    </tr>\n",
       "    <tr>\n",
       "      <th>APW2</th>\n",
       "      <td>322</td>\n",
       "    </tr>\n",
       "    <tr>\n",
       "      <th>AUH2</th>\n",
       "      <td>350</td>\n",
       "    </tr>\n",
       "    <tr>\n",
       "      <th>ASW1</th>\n",
       "      <td>315</td>\n",
       "    </tr>\n",
       "    <tr>\n",
       "      <th>AGP1</th>\n",
       "      <td>313</td>\n",
       "    </tr>\n",
       "    <tr>\n",
       "      <th>FED1</th>\n",
       "      <td>260</td>\n",
       "    </tr>\n",
       "    <tr>\n",
       "      <th>APWN</th>\n",
       "      <td>343</td>\n",
       "    </tr>\n",
       "  </tbody>\n",
       "</table>\n",
       "</div>"
      ],
      "text/plain": [
       "       cash\n",
       "grade      \n",
       "H1      385\n",
       "H2      380\n",
       "APW1    343\n",
       "APW2    322\n",
       "AUH2    350\n",
       "ASW1    315\n",
       "AGP1    313\n",
       "FED1    260\n",
       "APWN    343"
      ]
     },
     "execution_count": 21,
     "metadata": {},
     "output_type": "execute_result"
    }
   ],
   "source": [
    "df_cash"
   ]
  },
  {
   "cell_type": "markdown",
   "metadata": {},
   "source": [
    "## merge df_values and df_cash to create one df for use in optimistion"
   ]
  },
  {
   "cell_type": "code",
   "execution_count": 22,
   "metadata": {},
   "outputs": [],
   "source": [
    "df_merge = pd.merge(df_values, df_cash, left_index=True, right_index=True)"
   ]
  },
  {
   "cell_type": "code",
   "execution_count": 23,
   "metadata": {},
   "outputs": [
    {
     "data": {
      "text/html": [
       "<div>\n",
       "<style scoped>\n",
       "    .dataframe tbody tr th:only-of-type {\n",
       "        vertical-align: middle;\n",
       "    }\n",
       "\n",
       "    .dataframe tbody tr th {\n",
       "        vertical-align: top;\n",
       "    }\n",
       "\n",
       "    .dataframe thead th {\n",
       "        text-align: right;\n",
       "    }\n",
       "</style>\n",
       "<table border=\"1\" class=\"dataframe\">\n",
       "  <thead>\n",
       "    <tr style=\"text-align: right;\">\n",
       "      <th></th>\n",
       "      <th>WC1</th>\n",
       "      <th>WC2</th>\n",
       "      <th>WC3</th>\n",
       "      <th>WC4</th>\n",
       "      <th>WC5</th>\n",
       "      <th>WC6</th>\n",
       "      <th>cash</th>\n",
       "    </tr>\n",
       "    <tr>\n",
       "      <th>grade</th>\n",
       "      <th></th>\n",
       "      <th></th>\n",
       "      <th></th>\n",
       "      <th></th>\n",
       "      <th></th>\n",
       "      <th></th>\n",
       "      <th></th>\n",
       "    </tr>\n",
       "  </thead>\n",
       "  <tbody>\n",
       "    <tr>\n",
       "      <th>H1</th>\n",
       "      <td>300</td>\n",
       "      <td>307</td>\n",
       "      <td>310</td>\n",
       "      <td>313</td>\n",
       "      <td>311</td>\n",
       "      <td>317</td>\n",
       "      <td>385</td>\n",
       "    </tr>\n",
       "    <tr>\n",
       "      <th>H2</th>\n",
       "      <td>298</td>\n",
       "      <td>303</td>\n",
       "      <td>305</td>\n",
       "      <td>308</td>\n",
       "      <td>308</td>\n",
       "      <td>312</td>\n",
       "      <td>380</td>\n",
       "    </tr>\n",
       "    <tr>\n",
       "      <th>APW1</th>\n",
       "      <td>295</td>\n",
       "      <td>297</td>\n",
       "      <td>299</td>\n",
       "      <td>302</td>\n",
       "      <td>305</td>\n",
       "      <td>308</td>\n",
       "      <td>343</td>\n",
       "    </tr>\n",
       "    <tr>\n",
       "      <th>APW2</th>\n",
       "      <td>280</td>\n",
       "      <td>292</td>\n",
       "      <td>290</td>\n",
       "      <td>297</td>\n",
       "      <td>302</td>\n",
       "      <td>306</td>\n",
       "      <td>322</td>\n",
       "    </tr>\n",
       "    <tr>\n",
       "      <th>AUH2</th>\n",
       "      <td>290</td>\n",
       "      <td>280</td>\n",
       "      <td>301</td>\n",
       "      <td>305</td>\n",
       "      <td>300</td>\n",
       "      <td>309</td>\n",
       "      <td>350</td>\n",
       "    </tr>\n",
       "    <tr>\n",
       "      <th>ASW1</th>\n",
       "      <td>265</td>\n",
       "      <td>282</td>\n",
       "      <td>279</td>\n",
       "      <td>284</td>\n",
       "      <td>295</td>\n",
       "      <td>285</td>\n",
       "      <td>315</td>\n",
       "    </tr>\n",
       "    <tr>\n",
       "      <th>AGP1</th>\n",
       "      <td>260</td>\n",
       "      <td>257</td>\n",
       "      <td>260</td>\n",
       "      <td>265</td>\n",
       "      <td>270</td>\n",
       "      <td>269</td>\n",
       "      <td>313</td>\n",
       "    </tr>\n",
       "    <tr>\n",
       "      <th>FED1</th>\n",
       "      <td>235</td>\n",
       "      <td>227</td>\n",
       "      <td>230</td>\n",
       "      <td>252</td>\n",
       "      <td>235</td>\n",
       "      <td>236</td>\n",
       "      <td>260</td>\n",
       "    </tr>\n",
       "    <tr>\n",
       "      <th>APWN</th>\n",
       "      <td>295</td>\n",
       "      <td>298</td>\n",
       "      <td>302</td>\n",
       "      <td>302</td>\n",
       "      <td>307</td>\n",
       "      <td>304</td>\n",
       "      <td>343</td>\n",
       "    </tr>\n",
       "  </tbody>\n",
       "</table>\n",
       "</div>"
      ],
      "text/plain": [
       "       WC1  WC2  WC3  WC4  WC5  WC6  cash\n",
       "grade                                    \n",
       "H1     300  307  310  313  311  317   385\n",
       "H2     298  303  305  308  308  312   380\n",
       "APW1   295  297  299  302  305  308   343\n",
       "APW2   280  292  290  297  302  306   322\n",
       "AUH2   290  280  301  305  300  309   350\n",
       "ASW1   265  282  279  284  295  285   315\n",
       "AGP1   260  257  260  265  270  269   313\n",
       "FED1   235  227  230  252  235  236   260\n",
       "APWN   295  298  302  302  307  304   343"
      ]
     },
     "execution_count": 23,
     "metadata": {},
     "output_type": "execute_result"
    }
   ],
   "source": [
    "df_merge"
   ]
  },
  {
   "cell_type": "markdown",
   "metadata": {},
   "source": [
    "## Wheat solver excel spreadsheet now imported in as pandas dataframes.\n",
    "### Ready to start Linear Programming for Multi grade wheat contracts using Pulp and pandas"
   ]
  },
  {
   "cell_type": "code",
   "execution_count": 24,
   "metadata": {},
   "outputs": [],
   "source": [
    "from pulp import *"
   ]
  },
  {
   "cell_type": "code",
   "execution_count": 45,
   "metadata": {},
   "outputs": [],
   "source": [
    "# Instantiate our problem class\n",
    "model = pulp.LpProblem(\"Profit maximise wheat allocation\", pulp.LpMaximize)"
   ]
  },
  {
   "cell_type": "code",
   "execution_count": 46,
   "metadata": {},
   "outputs": [],
   "source": [
    "# construct our dicision varable lists\n",
    "\n",
    "# [j for j in df_merge.index]  give a list of grades\n",
    "\n",
    "# [i for i in df_merge.columns] gives a list of contract and cash names"
   ]
  },
  {
   "cell_type": "code",
   "execution_count": 47,
   "metadata": {},
   "outputs": [],
   "source": [
    "# Each of these decision variables will have similar characteristics (lower bound of 0, continuous variables). \n",
    "# Therefore we can use PuLP’s LpVariable object’s dict functionality, we can provide our tuple indices.\n",
    "# These tuples will be keys for the weight_tonnes dict of decision variables\n",
    "\n",
    "grade_weight = pulp.LpVariable.dicts(\"weight tonnes\",\n",
    "                                     ((i, j) for i in df_merge.columns for j in df_merge.index),\n",
    "                                     lowBound=0,\n",
    "                                     cat='Integer')"
   ]
  },
  {
   "cell_type": "code",
   "execution_count": 48,
   "metadata": {},
   "outputs": [],
   "source": [
    "# Objective Function is added to 'model' first\n",
    "\n",
    "\n",
    "model += (\n",
    "    pulp.lpSum([grade_weight[contract, grade]*df_merge[contract][grade] for contract in df_merge.columns for grade in df_merge.index])), \"Total profit from selling all wheat\"\n"
   ]
  },
  {
   "cell_type": "code",
   "execution_count": 49,
   "metadata": {},
   "outputs": [],
   "source": [
    "# add constraints for contracts\n",
    "for contract in df_contract.index.values:\n",
    "    model += pulp.lpSum([grade_weight[contract, grade] for grade in df_merge.index]) == df_contract.loc[contract]['Tonnes'], f\"{contract} requirement\"\n",
    "    "
   ]
  },
  {
   "cell_type": "code",
   "execution_count": 50,
   "metadata": {},
   "outputs": [],
   "source": [
    "# constraints for grades grown\n",
    "for grade in df_grown.index:\n",
    "    model += pulp.lpSum([grade_weight[contract, grade] for contract in df_contract.index.values]) <= df_grown.loc[grade]"
   ]
  },
  {
   "cell_type": "code",
   "execution_count": 51,
   "metadata": {},
   "outputs": [
    {
     "name": "stdout",
     "output_type": "stream",
     "text": [
      "Profit maximise wheat allocation:\n",
      "MAXIMIZE\n",
      "260*weight_tonnes_('WC1',_'AGP1') + 295*weight_tonnes_('WC1',_'APW1') + 280*weight_tonnes_('WC1',_'APW2') + 295*weight_tonnes_('WC1',_'APWN') + 265*weight_tonnes_('WC1',_'ASW1') + 290*weight_tonnes_('WC1',_'AUH2') + 235*weight_tonnes_('WC1',_'FED1') + 300*weight_tonnes_('WC1',_'H1') + 298*weight_tonnes_('WC1',_'H2') + 257*weight_tonnes_('WC2',_'AGP1') + 297*weight_tonnes_('WC2',_'APW1') + 292*weight_tonnes_('WC2',_'APW2') + 298*weight_tonnes_('WC2',_'APWN') + 282*weight_tonnes_('WC2',_'ASW1') + 280*weight_tonnes_('WC2',_'AUH2') + 227*weight_tonnes_('WC2',_'FED1') + 307*weight_tonnes_('WC2',_'H1') + 303*weight_tonnes_('WC2',_'H2') + 260*weight_tonnes_('WC3',_'AGP1') + 299*weight_tonnes_('WC3',_'APW1') + 290*weight_tonnes_('WC3',_'APW2') + 302*weight_tonnes_('WC3',_'APWN') + 279*weight_tonnes_('WC3',_'ASW1') + 301*weight_tonnes_('WC3',_'AUH2') + 230*weight_tonnes_('WC3',_'FED1') + 310*weight_tonnes_('WC3',_'H1') + 305*weight_tonnes_('WC3',_'H2') + 265*weight_tonnes_('WC4',_'AGP1') + 302*weight_tonnes_('WC4',_'APW1') + 297*weight_tonnes_('WC4',_'APW2') + 302*weight_tonnes_('WC4',_'APWN') + 284*weight_tonnes_('WC4',_'ASW1') + 305*weight_tonnes_('WC4',_'AUH2') + 252*weight_tonnes_('WC4',_'FED1') + 313*weight_tonnes_('WC4',_'H1') + 308*weight_tonnes_('WC4',_'H2') + 270*weight_tonnes_('WC5',_'AGP1') + 305*weight_tonnes_('WC5',_'APW1') + 302*weight_tonnes_('WC5',_'APW2') + 307*weight_tonnes_('WC5',_'APWN') + 295*weight_tonnes_('WC5',_'ASW1') + 300*weight_tonnes_('WC5',_'AUH2') + 235*weight_tonnes_('WC5',_'FED1') + 311*weight_tonnes_('WC5',_'H1') + 308*weight_tonnes_('WC5',_'H2') + 269*weight_tonnes_('WC6',_'AGP1') + 308*weight_tonnes_('WC6',_'APW1') + 306*weight_tonnes_('WC6',_'APW2') + 304*weight_tonnes_('WC6',_'APWN') + 285*weight_tonnes_('WC6',_'ASW1') + 309*weight_tonnes_('WC6',_'AUH2') + 236*weight_tonnes_('WC6',_'FED1') + 317*weight_tonnes_('WC6',_'H1') + 312*weight_tonnes_('WC6',_'H2') + 313*weight_tonnes_('cash',_'AGP1') + 343*weight_tonnes_('cash',_'APW1') + 322*weight_tonnes_('cash',_'APW2') + 343*weight_tonnes_('cash',_'APWN') + 315*weight_tonnes_('cash',_'ASW1') + 350*weight_tonnes_('cash',_'AUH2') + 260*weight_tonnes_('cash',_'FED1') + 385*weight_tonnes_('cash',_'H1') + 380*weight_tonnes_('cash',_'H2') + 0\n",
      "SUBJECT TO\n",
      "WC1_requirement: weight_tonnes_('WC1',_'AGP1') + weight_tonnes_('WC1',_'APW1')\n",
      " + weight_tonnes_('WC1',_'APW2') + weight_tonnes_('WC1',_'APWN')\n",
      " + weight_tonnes_('WC1',_'ASW1') + weight_tonnes_('WC1',_'AUH2')\n",
      " + weight_tonnes_('WC1',_'FED1') + weight_tonnes_('WC1',_'H1')\n",
      " + weight_tonnes_('WC1',_'H2') = 250\n",
      "\n",
      "WC2_requirement: weight_tonnes_('WC2',_'AGP1') + weight_tonnes_('WC2',_'APW1')\n",
      " + weight_tonnes_('WC2',_'APW2') + weight_tonnes_('WC2',_'APWN')\n",
      " + weight_tonnes_('WC2',_'ASW1') + weight_tonnes_('WC2',_'AUH2')\n",
      " + weight_tonnes_('WC2',_'FED1') + weight_tonnes_('WC2',_'H1')\n",
      " + weight_tonnes_('WC2',_'H2') = 250\n",
      "\n",
      "WC3_requirement: weight_tonnes_('WC3',_'AGP1') + weight_tonnes_('WC3',_'APW1')\n",
      " + weight_tonnes_('WC3',_'APW2') + weight_tonnes_('WC3',_'APWN')\n",
      " + weight_tonnes_('WC3',_'ASW1') + weight_tonnes_('WC3',_'AUH2')\n",
      " + weight_tonnes_('WC3',_'FED1') + weight_tonnes_('WC3',_'H1')\n",
      " + weight_tonnes_('WC3',_'H2') = 500\n",
      "\n",
      "WC4_requirement: weight_tonnes_('WC4',_'AGP1') + weight_tonnes_('WC4',_'APW1')\n",
      " + weight_tonnes_('WC4',_'APW2') + weight_tonnes_('WC4',_'APWN')\n",
      " + weight_tonnes_('WC4',_'ASW1') + weight_tonnes_('WC4',_'AUH2')\n",
      " + weight_tonnes_('WC4',_'FED1') + weight_tonnes_('WC4',_'H1')\n",
      " + weight_tonnes_('WC4',_'H2') = 500\n",
      "\n",
      "WC5_requirement: weight_tonnes_('WC5',_'AGP1') + weight_tonnes_('WC5',_'APW1')\n",
      " + weight_tonnes_('WC5',_'APW2') + weight_tonnes_('WC5',_'APWN')\n",
      " + weight_tonnes_('WC5',_'ASW1') + weight_tonnes_('WC5',_'AUH2')\n",
      " + weight_tonnes_('WC5',_'FED1') + weight_tonnes_('WC5',_'H1')\n",
      " + weight_tonnes_('WC5',_'H2') = 500\n",
      "\n",
      "WC6_requirement: weight_tonnes_('WC6',_'AGP1') + weight_tonnes_('WC6',_'APW1')\n",
      " + weight_tonnes_('WC6',_'APW2') + weight_tonnes_('WC6',_'APWN')\n",
      " + weight_tonnes_('WC6',_'ASW1') + weight_tonnes_('WC6',_'AUH2')\n",
      " + weight_tonnes_('WC6',_'FED1') + weight_tonnes_('WC6',_'H1')\n",
      " + weight_tonnes_('WC6',_'H2') = 500\n",
      "\n",
      "cash_requirement: weight_tonnes_('cash',_'AGP1')\n",
      " + weight_tonnes_('cash',_'APW1') + weight_tonnes_('cash',_'APW2')\n",
      " + weight_tonnes_('cash',_'APWN') + weight_tonnes_('cash',_'ASW1')\n",
      " + weight_tonnes_('cash',_'AUH2') + weight_tonnes_('cash',_'FED1')\n",
      " + weight_tonnes_('cash',_'H1') + weight_tonnes_('cash',_'H2') = 5000\n",
      "\n",
      "_C1: weight_tonnes_('WC1',_'H1') + weight_tonnes_('WC2',_'H1')\n",
      " + weight_tonnes_('WC3',_'H1') + weight_tonnes_('WC4',_'H1')\n",
      " + weight_tonnes_('WC5',_'H1') + weight_tonnes_('WC6',_'H1')\n",
      " + weight_tonnes_('cash',_'H1') <= 750\n",
      "\n",
      "_C2: weight_tonnes_('WC1',_'H2') + weight_tonnes_('WC2',_'H2')\n",
      " + weight_tonnes_('WC3',_'H2') + weight_tonnes_('WC4',_'H2')\n",
      " + weight_tonnes_('WC5',_'H2') + weight_tonnes_('WC6',_'H2')\n",
      " + weight_tonnes_('cash',_'H2') <= 150\n",
      "\n",
      "_C3: weight_tonnes_('WC1',_'APW1') + weight_tonnes_('WC2',_'APW1')\n",
      " + weight_tonnes_('WC3',_'APW1') + weight_tonnes_('WC4',_'APW1')\n",
      " + weight_tonnes_('WC5',_'APW1') + weight_tonnes_('WC6',_'APW1')\n",
      " + weight_tonnes_('cash',_'APW1') <= 2500\n",
      "\n",
      "_C4: weight_tonnes_('WC1',_'APW2') + weight_tonnes_('WC2',_'APW2')\n",
      " + weight_tonnes_('WC3',_'APW2') + weight_tonnes_('WC4',_'APW2')\n",
      " + weight_tonnes_('WC5',_'APW2') + weight_tonnes_('WC6',_'APW2')\n",
      " + weight_tonnes_('cash',_'APW2') <= 550\n",
      "\n",
      "_C5: weight_tonnes_('WC1',_'AUH2') + weight_tonnes_('WC2',_'AUH2')\n",
      " + weight_tonnes_('WC3',_'AUH2') + weight_tonnes_('WC4',_'AUH2')\n",
      " + weight_tonnes_('WC5',_'AUH2') + weight_tonnes_('WC6',_'AUH2')\n",
      " + weight_tonnes_('cash',_'AUH2') <= 250\n",
      "\n",
      "_C6: weight_tonnes_('WC1',_'ASW1') + weight_tonnes_('WC2',_'ASW1')\n",
      " + weight_tonnes_('WC3',_'ASW1') + weight_tonnes_('WC4',_'ASW1')\n",
      " + weight_tonnes_('WC5',_'ASW1') + weight_tonnes_('WC6',_'ASW1')\n",
      " + weight_tonnes_('cash',_'ASW1') <= 2000\n",
      "\n",
      "_C7: weight_tonnes_('WC1',_'AGP1') + weight_tonnes_('WC2',_'AGP1')\n",
      " + weight_tonnes_('WC3',_'AGP1') + weight_tonnes_('WC4',_'AGP1')\n",
      " + weight_tonnes_('WC5',_'AGP1') + weight_tonnes_('WC6',_'AGP1')\n",
      " + weight_tonnes_('cash',_'AGP1') <= 500\n",
      "\n",
      "_C8: weight_tonnes_('WC1',_'FED1') + weight_tonnes_('WC2',_'FED1')\n",
      " + weight_tonnes_('WC3',_'FED1') + weight_tonnes_('WC4',_'FED1')\n",
      " + weight_tonnes_('WC5',_'FED1') + weight_tonnes_('WC6',_'FED1')\n",
      " + weight_tonnes_('cash',_'FED1') <= 800\n",
      "\n",
      "_C9: weight_tonnes_('WC1',_'APWN') + weight_tonnes_('WC2',_'APWN')\n",
      " + weight_tonnes_('WC3',_'APWN') + weight_tonnes_('WC4',_'APWN')\n",
      " + weight_tonnes_('WC5',_'APWN') + weight_tonnes_('WC6',_'APWN')\n",
      " + weight_tonnes_('cash',_'APWN') <= 0\n",
      "\n",
      "VARIABLES\n",
      "0 <= weight_tonnes_('WC1',_'AGP1') Integer\n",
      "0 <= weight_tonnes_('WC1',_'APW1') Integer\n",
      "0 <= weight_tonnes_('WC1',_'APW2') Integer\n",
      "0 <= weight_tonnes_('WC1',_'APWN') Integer\n",
      "0 <= weight_tonnes_('WC1',_'ASW1') Integer\n",
      "0 <= weight_tonnes_('WC1',_'AUH2') Integer\n",
      "0 <= weight_tonnes_('WC1',_'FED1') Integer\n",
      "0 <= weight_tonnes_('WC1',_'H1') Integer\n",
      "0 <= weight_tonnes_('WC1',_'H2') Integer\n",
      "0 <= weight_tonnes_('WC2',_'AGP1') Integer\n",
      "0 <= weight_tonnes_('WC2',_'APW1') Integer\n",
      "0 <= weight_tonnes_('WC2',_'APW2') Integer\n",
      "0 <= weight_tonnes_('WC2',_'APWN') Integer\n",
      "0 <= weight_tonnes_('WC2',_'ASW1') Integer\n",
      "0 <= weight_tonnes_('WC2',_'AUH2') Integer\n",
      "0 <= weight_tonnes_('WC2',_'FED1') Integer\n",
      "0 <= weight_tonnes_('WC2',_'H1') Integer\n",
      "0 <= weight_tonnes_('WC2',_'H2') Integer\n",
      "0 <= weight_tonnes_('WC3',_'AGP1') Integer\n",
      "0 <= weight_tonnes_('WC3',_'APW1') Integer\n",
      "0 <= weight_tonnes_('WC3',_'APW2') Integer\n",
      "0 <= weight_tonnes_('WC3',_'APWN') Integer\n",
      "0 <= weight_tonnes_('WC3',_'ASW1') Integer\n",
      "0 <= weight_tonnes_('WC3',_'AUH2') Integer\n",
      "0 <= weight_tonnes_('WC3',_'FED1') Integer\n",
      "0 <= weight_tonnes_('WC3',_'H1') Integer\n",
      "0 <= weight_tonnes_('WC3',_'H2') Integer\n",
      "0 <= weight_tonnes_('WC4',_'AGP1') Integer\n",
      "0 <= weight_tonnes_('WC4',_'APW1') Integer\n",
      "0 <= weight_tonnes_('WC4',_'APW2') Integer\n",
      "0 <= weight_tonnes_('WC4',_'APWN') Integer\n",
      "0 <= weight_tonnes_('WC4',_'ASW1') Integer\n",
      "0 <= weight_tonnes_('WC4',_'AUH2') Integer\n",
      "0 <= weight_tonnes_('WC4',_'FED1') Integer\n",
      "0 <= weight_tonnes_('WC4',_'H1') Integer\n",
      "0 <= weight_tonnes_('WC4',_'H2') Integer\n",
      "0 <= weight_tonnes_('WC5',_'AGP1') Integer\n",
      "0 <= weight_tonnes_('WC5',_'APW1') Integer\n",
      "0 <= weight_tonnes_('WC5',_'APW2') Integer\n",
      "0 <= weight_tonnes_('WC5',_'APWN') Integer\n",
      "0 <= weight_tonnes_('WC5',_'ASW1') Integer\n",
      "0 <= weight_tonnes_('WC5',_'AUH2') Integer\n",
      "0 <= weight_tonnes_('WC5',_'FED1') Integer\n",
      "0 <= weight_tonnes_('WC5',_'H1') Integer\n",
      "0 <= weight_tonnes_('WC5',_'H2') Integer\n",
      "0 <= weight_tonnes_('WC6',_'AGP1') Integer\n",
      "0 <= weight_tonnes_('WC6',_'APW1') Integer\n",
      "0 <= weight_tonnes_('WC6',_'APW2') Integer\n",
      "0 <= weight_tonnes_('WC6',_'APWN') Integer\n",
      "0 <= weight_tonnes_('WC6',_'ASW1') Integer\n",
      "0 <= weight_tonnes_('WC6',_'AUH2') Integer\n",
      "0 <= weight_tonnes_('WC6',_'FED1') Integer\n",
      "0 <= weight_tonnes_('WC6',_'H1') Integer\n",
      "0 <= weight_tonnes_('WC6',_'H2') Integer\n",
      "0 <= weight_tonnes_('cash',_'AGP1') Integer\n",
      "0 <= weight_tonnes_('cash',_'APW1') Integer\n",
      "0 <= weight_tonnes_('cash',_'APW2') Integer\n",
      "0 <= weight_tonnes_('cash',_'APWN') Integer\n",
      "0 <= weight_tonnes_('cash',_'ASW1') Integer\n",
      "0 <= weight_tonnes_('cash',_'AUH2') Integer\n",
      "0 <= weight_tonnes_('cash',_'FED1') Integer\n",
      "0 <= weight_tonnes_('cash',_'H1') Integer\n",
      "0 <= weight_tonnes_('cash',_'H2') Integer\n",
      "\n"
     ]
    }
   ],
   "source": [
    "print(model)"
   ]
  },
  {
   "cell_type": "code",
   "execution_count": 52,
   "metadata": {},
   "outputs": [
    {
     "data": {
      "text/plain": [
       "'Optimal'"
      ]
     },
     "execution_count": 52,
     "metadata": {},
     "output_type": "execute_result"
    }
   ],
   "source": [
    "# Solve our problem\n",
    "model.solve()\n",
    "pulp.LpStatus[model.status]"
   ]
  },
  {
   "cell_type": "code",
   "execution_count": 53,
   "metadata": {},
   "outputs": [
    {
     "name": "stdout",
     "output_type": "stream",
     "text": [
      "The weight of FED1 in WC1 wheat is 250.0 tonnes\n",
      "The weight of ASW1 in WC2 wheat is 250.0 tonnes\n",
      "The weight of APW2 in WC3 wheat is 50.0 tonnes\n",
      "The weight of ASW1 in WC3 wheat is 400.0 tonnes\n",
      "The weight of FED1 in WC3 wheat is 50.0 tonnes\n",
      "The weight of FED1 in WC4 wheat is 500.0 tonnes\n",
      "The weight of ASW1 in WC5 wheat is 500.0 tonnes\n",
      "The weight of APW2 in WC6 wheat is 500.0 tonnes\n",
      "The weight of H1 in cash wheat is 750.0 tonnes\n",
      "The weight of H2 in cash wheat is 150.0 tonnes\n",
      "The weight of APW1 in cash wheat is 2500.0 tonnes\n",
      "The weight of AUH2 in cash wheat is 250.0 tonnes\n",
      "The weight of ASW1 in cash wheat is 850.0 tonnes\n",
      "The weight of AGP1 in cash wheat is 500.0 tonnes\n"
     ]
    }
   ],
   "source": [
    "for var in grade_weight:\n",
    "    if grade_weight[var].varValue > 0:\n",
    "        var_value = grade_weight[var].varValue\n",
    "        print(\"The weight of {0} in {1} wheat is {2} tonnes\".format(var[1], var[0], var_value))"
   ]
  },
  {
   "cell_type": "code",
   "execution_count": 54,
   "metadata": {},
   "outputs": [
    {
     "name": "stdout",
     "output_type": "stream",
     "text": [
      "The total profit is $2408350.0 for contracts\n"
     ]
    }
   ],
   "source": [
    "total_profit = pulp.value(model.objective)\n",
    "\n",
    "print(\"The total profit is ${} for contracts\".format(round(total_profit, 0)))"
   ]
  },
  {
   "cell_type": "code",
   "execution_count": null,
   "metadata": {},
   "outputs": [],
   "source": []
  }
 ],
 "metadata": {
  "kernelspec": {
   "display_name": "contract_allocation",
   "language": "python",
   "name": "contract_allocation"
  },
  "language_info": {
   "codemirror_mode": {
    "name": "ipython",
    "version": 3
   },
   "file_extension": ".py",
   "mimetype": "text/x-python",
   "name": "python",
   "nbconvert_exporter": "python",
   "pygments_lexer": "ipython3",
   "version": "3.6.7"
  }
 },
 "nbformat": 4,
 "nbformat_minor": 2
}
