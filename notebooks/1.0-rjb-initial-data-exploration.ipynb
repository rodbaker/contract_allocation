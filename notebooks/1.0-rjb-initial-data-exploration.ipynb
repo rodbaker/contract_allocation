{
 "cells": [
  {
   "cell_type": "markdown",
   "metadata": {},
   "source": [
    "## Linear Programming for Multi grade wheat contracts\n",
    "\n",
    "#### Code is optimizing Profarmer eg correctly.\n",
    "\n",
    "#### Now work on adding all grades, more contracts and use pandas dataframe\n",
    "\n",
    "#### code idea came from sausage blending problem\n",
    "\n",
    "http://benalexkeen.com/linear-programming-with-python-and-pulp-part-4/"
   ]
  },
  {
   "cell_type": "code",
   "execution_count": 14,
   "metadata": {},
   "outputs": [],
   "source": [
    "from pulp import *"
   ]
  },
  {
   "cell_type": "code",
   "execution_count": 15,
   "metadata": {},
   "outputs": [],
   "source": [
    "# Instantiate our problem class\n",
    "model = pulp.LpProblem(\"Profit maximise wheat allocation\", pulp.LpMaximize)"
   ]
  },
  {
   "cell_type": "code",
   "execution_count": 16,
   "metadata": {},
   "outputs": [],
   "source": [
    "# construct our dicision varable lists\n",
    "\n",
    "contract_types = ['contract_1', 'contract_2', 'cash']\n",
    "\n",
    "grades = ['ASW', 'APW', 'H1']\n"
   ]
  },
  {
   "cell_type": "code",
   "execution_count": 17,
   "metadata": {},
   "outputs": [],
   "source": [
    "# Each of these decision variables will have similar characteristics (lower bound of 0, continuous variables). \n",
    "# Therefore we can use PuLP’s LpVariable object’s dict functionality, we can provide our tuple indices.\n",
    "# These tuples will be keys for the weight_tonnes dict of decision variables\n",
    "\n",
    "grade_weight = pulp.LpVariable.dicts(\"weight tonnes\",\n",
    "                                     ((i, j) for i in contract_types for j in grades),\n",
    "                                     lowBound=0,\n",
    "                                     cat='Integer')"
   ]
  },
  {
   "cell_type": "code",
   "execution_count": 18,
   "metadata": {},
   "outputs": [
    {
     "data": {
      "text/plain": [
       "{('contract_1', 'ASW'): weight_tonnes_('contract_1',_'ASW'),\n",
       " ('contract_1', 'APW'): weight_tonnes_('contract_1',_'APW'),\n",
       " ('contract_1', 'H1'): weight_tonnes_('contract_1',_'H1'),\n",
       " ('contract_2', 'ASW'): weight_tonnes_('contract_2',_'ASW'),\n",
       " ('contract_2', 'APW'): weight_tonnes_('contract_2',_'APW'),\n",
       " ('contract_2', 'H1'): weight_tonnes_('contract_2',_'H1'),\n",
       " ('cash', 'ASW'): weight_tonnes_('cash',_'ASW'),\n",
       " ('cash', 'APW'): weight_tonnes_('cash',_'APW'),\n",
       " ('cash', 'H1'): weight_tonnes_('cash',_'H1')}"
      ]
     },
     "execution_count": 18,
     "metadata": {},
     "output_type": "execute_result"
    }
   ],
   "source": [
    "grade_weight"
   ]
  },
  {
   "cell_type": "code",
   "execution_count": 19,
   "metadata": {},
   "outputs": [],
   "source": [
    "# A dictionary of prices in contract 1\n",
    "\n",
    "contract_1 = {'ASW':247,\n",
    "             'APW':267,\n",
    "             'H1':277}\n",
    "\n",
    "# A dictionary of prices in contract 2\n",
    "\n",
    "contract_2 = {'ASW':199,\n",
    "             'APW':224,\n",
    "             'H1':234}\n",
    "\n",
    "# A dictionary of prices in contract 3\n",
    "\n",
    "cash = {'ASW':206,\n",
    "             'APW':222,\n",
    "             'H1':252}\n",
    "\n",
    "contract_dict = {'C1':contract_1,\n",
    "                'C2':contract_2,\n",
    "                'C3':cash}\n"
   ]
  },
  {
   "cell_type": "code",
   "execution_count": 20,
   "metadata": {},
   "outputs": [],
   "source": [
    "# Objective Function is added to 'model' first\n",
    "\n",
    "# need to work on below code to simplify ie make more pythonic\n",
    "\n",
    "list_a = [i for k,v in contract_dict.items() for i in v.values()]\n",
    "list_b = [l for l in (list(grade_weight.values()))]\n",
    "\n",
    "model += (\n",
    "    pulp.lpSum([a*b for a,b in zip(list_a,list_b)])), \"Total profit from selling all wheat\"\n"
   ]
  },
  {
   "cell_type": "code",
   "execution_count": 21,
   "metadata": {},
   "outputs": [],
   "source": [
    "# constraints\n",
    "model += pulp.lpSum([grade_weight['contract_1', j] for j in grades]) == 500, \"contract 1 requirement\"\n",
    "model += pulp.lpSum([grade_weight['contract_2', j] for j in grades]) == 500, \"contract 2 requirement\"\n",
    "model += pulp.lpSum([grade_weight['cash', j] for j in grades]) == 1000, \"cash requirement\"\n",
    "model += pulp.lpSum([grade_weight[i, 'ASW'] for i in contract_types]) <= 500\n",
    "model += pulp.lpSum([grade_weight[i, 'APW'] for i in contract_types]) <= 1000\n",
    "model += pulp.lpSum([grade_weight[i, 'H1'] for i in contract_types]) <= 500"
   ]
  },
  {
   "cell_type": "code",
   "execution_count": 22,
   "metadata": {},
   "outputs": [
    {
     "name": "stdout",
     "output_type": "stream",
     "text": [
      "Profit maximise wheat allocation:\n",
      "MAXIMIZE\n",
      "222*weight_tonnes_('cash',_'APW') + 206*weight_tonnes_('cash',_'ASW') + 252*weight_tonnes_('cash',_'H1') + 267*weight_tonnes_('contract_1',_'APW') + 247*weight_tonnes_('contract_1',_'ASW') + 277*weight_tonnes_('contract_1',_'H1') + 224*weight_tonnes_('contract_2',_'APW') + 199*weight_tonnes_('contract_2',_'ASW') + 234*weight_tonnes_('contract_2',_'H1') + 0\n",
      "SUBJECT TO\n",
      "contract_1_requirement: weight_tonnes_('contract_1',_'APW')\n",
      " + weight_tonnes_('contract_1',_'ASW') + weight_tonnes_('contract_1',_'H1')\n",
      " = 500\n",
      "\n",
      "contract_2_requirement: weight_tonnes_('contract_2',_'APW')\n",
      " + weight_tonnes_('contract_2',_'ASW') + weight_tonnes_('contract_2',_'H1')\n",
      " = 500\n",
      "\n",
      "cash_requirement: weight_tonnes_('cash',_'APW')\n",
      " + weight_tonnes_('cash',_'ASW') + weight_tonnes_('cash',_'H1') = 1000\n",
      "\n",
      "_C1: weight_tonnes_('cash',_'ASW') + weight_tonnes_('contract_1',_'ASW')\n",
      " + weight_tonnes_('contract_2',_'ASW') <= 500\n",
      "\n",
      "_C2: weight_tonnes_('cash',_'APW') + weight_tonnes_('contract_1',_'APW')\n",
      " + weight_tonnes_('contract_2',_'APW') <= 1000\n",
      "\n",
      "_C3: weight_tonnes_('cash',_'H1') + weight_tonnes_('contract_1',_'H1')\n",
      " + weight_tonnes_('contract_2',_'H1') <= 500\n",
      "\n",
      "VARIABLES\n",
      "0 <= weight_tonnes_('cash',_'APW') Integer\n",
      "0 <= weight_tonnes_('cash',_'ASW') Integer\n",
      "0 <= weight_tonnes_('cash',_'H1') Integer\n",
      "0 <= weight_tonnes_('contract_1',_'APW') Integer\n",
      "0 <= weight_tonnes_('contract_1',_'ASW') Integer\n",
      "0 <= weight_tonnes_('contract_1',_'H1') Integer\n",
      "0 <= weight_tonnes_('contract_2',_'APW') Integer\n",
      "0 <= weight_tonnes_('contract_2',_'ASW') Integer\n",
      "0 <= weight_tonnes_('contract_2',_'H1') Integer\n",
      "\n"
     ]
    }
   ],
   "source": [
    "print(model)"
   ]
  },
  {
   "cell_type": "code",
   "execution_count": 10,
   "metadata": {},
   "outputs": [
    {
     "data": {
      "text/plain": [
       "'Optimal'"
      ]
     },
     "execution_count": 10,
     "metadata": {},
     "output_type": "execute_result"
    }
   ],
   "source": [
    "# Solve our problem\n",
    "model.solve()\n",
    "pulp.LpStatus[model.status]"
   ]
  },
  {
   "cell_type": "code",
   "execution_count": 11,
   "metadata": {},
   "outputs": [
    {
     "name": "stdout",
     "output_type": "stream",
     "text": [
      "The weight of ASW in contract_1 wheat is 0.0 tonnes\n",
      "The weight of APW in contract_1 wheat is 500.0 tonnes\n",
      "The weight of H1 in contract_1 wheat is 0.0 tonnes\n",
      "The weight of ASW in contract_2 wheat is 0.0 tonnes\n",
      "The weight of APW in contract_2 wheat is 500.0 tonnes\n",
      "The weight of H1 in contract_2 wheat is 0.0 tonnes\n",
      "The weight of ASW in cash wheat is 500.0 tonnes\n",
      "The weight of APW in cash wheat is 0.0 tonnes\n",
      "The weight of H1 in cash wheat is 500.0 tonnes\n"
     ]
    }
   ],
   "source": [
    "for var in grade_weight:\n",
    "    var_value = grade_weight[var].varValue\n",
    "    print(\"The weight of {0} in {1} wheat is {2} tonnes\".format(var[1], var[0], var_value))"
   ]
  },
  {
   "cell_type": "code",
   "execution_count": 12,
   "metadata": {},
   "outputs": [
    {
     "name": "stdout",
     "output_type": "stream",
     "text": [
      "The total profit is $474500.0 for contracts\n"
     ]
    }
   ],
   "source": [
    "total_profit = pulp.value(model.objective)\n",
    "\n",
    "print(\"The total profit is ${} for contracts\".format(round(total_profit, 0)))"
   ]
  },
  {
   "cell_type": "code",
   "execution_count": 23,
   "metadata": {},
   "outputs": [
    {
     "data": {
      "text/plain": [
       "[247, 267, 277, 199, 224, 234, 206, 222, 252]"
      ]
     },
     "execution_count": 23,
     "metadata": {},
     "output_type": "execute_result"
    }
   ],
   "source": [
    "list_a"
   ]
  },
  {
   "cell_type": "code",
   "execution_count": 24,
   "metadata": {},
   "outputs": [
    {
     "data": {
      "text/plain": [
       "[weight_tonnes_('contract_1',_'ASW'),\n",
       " weight_tonnes_('contract_1',_'APW'),\n",
       " weight_tonnes_('contract_1',_'H1'),\n",
       " weight_tonnes_('contract_2',_'ASW'),\n",
       " weight_tonnes_('contract_2',_'APW'),\n",
       " weight_tonnes_('contract_2',_'H1'),\n",
       " weight_tonnes_('cash',_'ASW'),\n",
       " weight_tonnes_('cash',_'APW'),\n",
       " weight_tonnes_('cash',_'H1')]"
      ]
     },
     "execution_count": 24,
     "metadata": {},
     "output_type": "execute_result"
    }
   ],
   "source": [
    "list_b"
   ]
  },
  {
   "cell_type": "code",
   "execution_count": 26,
   "metadata": {},
   "outputs": [
    {
     "name": "stdout",
     "output_type": "stream",
     "text": [
      "<zip object at 0x000001839724F308>\n"
     ]
    }
   ],
   "source": [
    "print(zip(list_a,list_b))"
   ]
  },
  {
   "cell_type": "code",
   "execution_count": null,
   "metadata": {},
   "outputs": [],
   "source": []
  }
 ],
 "metadata": {
  "kernelspec": {
   "display_name": "contract_allocation",
   "language": "python",
   "name": "contract_allocation"
  },
  "language_info": {
   "codemirror_mode": {
    "name": "ipython",
    "version": 3
   },
   "file_extension": ".py",
   "mimetype": "text/x-python",
   "name": "python",
   "nbconvert_exporter": "python",
   "pygments_lexer": "ipython3",
   "version": "3.6.7"
  }
 },
 "nbformat": 4,
 "nbformat_minor": 2
}
